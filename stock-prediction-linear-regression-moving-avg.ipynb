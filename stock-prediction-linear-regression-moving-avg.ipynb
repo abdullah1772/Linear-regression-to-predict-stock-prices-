{
 "cells": [
  {
   "cell_type": "code",
   "execution_count": 1,
   "id": "bf73623a",
   "metadata": {
    "_cell_guid": "b1076dfc-b9ad-4769-8c92-a6c4dae69d19",
    "_uuid": "8f2839f25d086af736a60e9eeb907d3b93b6e0e5",
    "execution": {
     "iopub.execute_input": "2023-01-30T15:48:37.060943Z",
     "iopub.status.busy": "2023-01-30T15:48:37.060288Z",
     "iopub.status.idle": "2023-01-30T15:48:39.441277Z",
     "shell.execute_reply": "2023-01-30T15:48:39.439453Z"
    },
    "papermill": {
     "duration": 2.394129,
     "end_time": "2023-01-30T15:48:39.444371",
     "exception": false,
     "start_time": "2023-01-30T15:48:37.050242",
     "status": "completed"
    },
    "tags": []
   },
   "outputs": [],
   "source": [
    "import pandas as pd\n",
    "import numpy as np\n",
    "import matplotlib.pyplot as plt\n",
    "import plotly.express as px\n",
    "import plotly.graph_objects as go\n",
    "from sklearn.model_selection import train_test_split\n",
    "from sklearn.metrics import r2_score\n",
    "from sklearn.linear_model import LinearRegression\n",
    "import random\n",
    "from sklearn.metrics import mean_squared_error, r2_score, mean_absolute_error"
   ]
  },
  {
   "cell_type": "markdown",
   "id": "5d80e0e3",
   "metadata": {
    "papermill": {
     "duration": 0.006143,
     "end_time": "2023-01-30T15:48:39.457236",
     "exception": false,
     "start_time": "2023-01-30T15:48:39.451093",
     "status": "completed"
    },
    "tags": []
   },
   "source": [
    "****Read the data ****"
   ]
  },
  {
   "cell_type": "code",
   "execution_count": 2,
   "id": "33eebd68",
   "metadata": {
    "execution": {
     "iopub.execute_input": "2023-01-30T15:48:39.473370Z",
     "iopub.status.busy": "2023-01-30T15:48:39.472910Z",
     "iopub.status.idle": "2023-01-30T15:48:39.503601Z",
     "shell.execute_reply": "2023-01-30T15:48:39.502234Z"
    },
    "papermill": {
     "duration": 0.042315,
     "end_time": "2023-01-30T15:48:39.506304",
     "exception": false,
     "start_time": "2023-01-30T15:48:39.463989",
     "status": "completed"
    },
    "tags": []
   },
   "outputs": [],
   "source": [
    "df=pd.read_csv('/kaggle/input/most-watched-stocks-of-past-decade20132023/AAPL(Apple).csv')"
   ]
  },
  {
   "cell_type": "code",
   "execution_count": 3,
   "id": "38b551af",
   "metadata": {
    "execution": {
     "iopub.execute_input": "2023-01-30T15:48:39.521757Z",
     "iopub.status.busy": "2023-01-30T15:48:39.521337Z",
     "iopub.status.idle": "2023-01-30T15:48:39.546276Z",
     "shell.execute_reply": "2023-01-30T15:48:39.544952Z"
    },
    "papermill": {
     "duration": 0.036336,
     "end_time": "2023-01-30T15:48:39.549267",
     "exception": false,
     "start_time": "2023-01-30T15:48:39.512931",
     "status": "completed"
    },
    "tags": []
   },
   "outputs": [
    {
     "data": {
      "text/html": [
       "<div>\n",
       "<style scoped>\n",
       "    .dataframe tbody tr th:only-of-type {\n",
       "        vertical-align: middle;\n",
       "    }\n",
       "\n",
       "    .dataframe tbody tr th {\n",
       "        vertical-align: top;\n",
       "    }\n",
       "\n",
       "    .dataframe thead th {\n",
       "        text-align: right;\n",
       "    }\n",
       "</style>\n",
       "<table border=\"1\" class=\"dataframe\">\n",
       "  <thead>\n",
       "    <tr style=\"text-align: right;\">\n",
       "      <th></th>\n",
       "      <th>Date</th>\n",
       "      <th>Open</th>\n",
       "      <th>High</th>\n",
       "      <th>Low</th>\n",
       "      <th>Close</th>\n",
       "      <th>Adj Close</th>\n",
       "      <th>Volume</th>\n",
       "    </tr>\n",
       "  </thead>\n",
       "  <tbody>\n",
       "    <tr>\n",
       "      <th>0</th>\n",
       "      <td>2013-01-02</td>\n",
       "      <td>19.779285</td>\n",
       "      <td>19.821428</td>\n",
       "      <td>19.343929</td>\n",
       "      <td>19.608213</td>\n",
       "      <td>16.862818</td>\n",
       "      <td>560518000</td>\n",
       "    </tr>\n",
       "    <tr>\n",
       "      <th>1</th>\n",
       "      <td>2013-01-03</td>\n",
       "      <td>19.567142</td>\n",
       "      <td>19.631071</td>\n",
       "      <td>19.321428</td>\n",
       "      <td>19.360714</td>\n",
       "      <td>16.649981</td>\n",
       "      <td>352965200</td>\n",
       "    </tr>\n",
       "    <tr>\n",
       "      <th>2</th>\n",
       "      <td>2013-01-04</td>\n",
       "      <td>19.177500</td>\n",
       "      <td>19.236786</td>\n",
       "      <td>18.779642</td>\n",
       "      <td>18.821428</td>\n",
       "      <td>16.186199</td>\n",
       "      <td>594333600</td>\n",
       "    </tr>\n",
       "    <tr>\n",
       "      <th>3</th>\n",
       "      <td>2013-01-07</td>\n",
       "      <td>18.642857</td>\n",
       "      <td>18.903570</td>\n",
       "      <td>18.400000</td>\n",
       "      <td>18.710714</td>\n",
       "      <td>16.090986</td>\n",
       "      <td>484156400</td>\n",
       "    </tr>\n",
       "    <tr>\n",
       "      <th>4</th>\n",
       "      <td>2013-01-08</td>\n",
       "      <td>18.900356</td>\n",
       "      <td>18.996071</td>\n",
       "      <td>18.616072</td>\n",
       "      <td>18.761070</td>\n",
       "      <td>16.134293</td>\n",
       "      <td>458707200</td>\n",
       "    </tr>\n",
       "  </tbody>\n",
       "</table>\n",
       "</div>"
      ],
      "text/plain": [
       "         Date       Open       High        Low      Close  Adj Close  \\\n",
       "0  2013-01-02  19.779285  19.821428  19.343929  19.608213  16.862818   \n",
       "1  2013-01-03  19.567142  19.631071  19.321428  19.360714  16.649981   \n",
       "2  2013-01-04  19.177500  19.236786  18.779642  18.821428  16.186199   \n",
       "3  2013-01-07  18.642857  18.903570  18.400000  18.710714  16.090986   \n",
       "4  2013-01-08  18.900356  18.996071  18.616072  18.761070  16.134293   \n",
       "\n",
       "      Volume  \n",
       "0  560518000  \n",
       "1  352965200  \n",
       "2  594333600  \n",
       "3  484156400  \n",
       "4  458707200  "
      ]
     },
     "execution_count": 3,
     "metadata": {},
     "output_type": "execute_result"
    }
   ],
   "source": [
    "df.head()"
   ]
  },
  {
   "cell_type": "code",
   "execution_count": 4,
   "id": "df31c8c2",
   "metadata": {
    "execution": {
     "iopub.execute_input": "2023-01-30T15:48:39.564851Z",
     "iopub.status.busy": "2023-01-30T15:48:39.564454Z",
     "iopub.status.idle": "2023-01-30T15:48:39.610044Z",
     "shell.execute_reply": "2023-01-30T15:48:39.608249Z"
    },
    "papermill": {
     "duration": 0.056831,
     "end_time": "2023-01-30T15:48:39.613048",
     "exception": false,
     "start_time": "2023-01-30T15:48:39.556217",
     "status": "completed"
    },
    "tags": []
   },
   "outputs": [
    {
     "data": {
      "text/html": [
       "<div>\n",
       "<style scoped>\n",
       "    .dataframe tbody tr th:only-of-type {\n",
       "        vertical-align: middle;\n",
       "    }\n",
       "\n",
       "    .dataframe tbody tr th {\n",
       "        vertical-align: top;\n",
       "    }\n",
       "\n",
       "    .dataframe thead th {\n",
       "        text-align: right;\n",
       "    }\n",
       "</style>\n",
       "<table border=\"1\" class=\"dataframe\">\n",
       "  <thead>\n",
       "    <tr style=\"text-align: right;\">\n",
       "      <th></th>\n",
       "      <th>Open</th>\n",
       "      <th>High</th>\n",
       "      <th>Low</th>\n",
       "      <th>Close</th>\n",
       "      <th>Adj Close</th>\n",
       "      <th>Volume</th>\n",
       "    </tr>\n",
       "  </thead>\n",
       "  <tbody>\n",
       "    <tr>\n",
       "      <th>count</th>\n",
       "      <td>2518.000000</td>\n",
       "      <td>2518.000000</td>\n",
       "      <td>2518.000000</td>\n",
       "      <td>2518.000000</td>\n",
       "      <td>2518.000000</td>\n",
       "      <td>2.518000e+03</td>\n",
       "    </tr>\n",
       "    <tr>\n",
       "      <th>mean</th>\n",
       "      <td>62.383387</td>\n",
       "      <td>63.087693</td>\n",
       "      <td>61.696664</td>\n",
       "      <td>62.416599</td>\n",
       "      <td>60.637030</td>\n",
       "      <td>1.713540e+08</td>\n",
       "    </tr>\n",
       "    <tr>\n",
       "      <th>std</th>\n",
       "      <td>48.683035</td>\n",
       "      <td>49.322128</td>\n",
       "      <td>48.051043</td>\n",
       "      <td>48.709794</td>\n",
       "      <td>49.248659</td>\n",
       "      <td>1.250498e+08</td>\n",
       "    </tr>\n",
       "    <tr>\n",
       "      <th>min</th>\n",
       "      <td>13.856071</td>\n",
       "      <td>14.271429</td>\n",
       "      <td>13.753571</td>\n",
       "      <td>13.947500</td>\n",
       "      <td>12.064584</td>\n",
       "      <td>3.519590e+07</td>\n",
       "    </tr>\n",
       "    <tr>\n",
       "      <th>25%</th>\n",
       "      <td>26.971249</td>\n",
       "      <td>27.219376</td>\n",
       "      <td>26.705000</td>\n",
       "      <td>26.983750</td>\n",
       "      <td>24.676636</td>\n",
       "      <td>9.188698e+07</td>\n",
       "    </tr>\n",
       "    <tr>\n",
       "      <th>50%</th>\n",
       "      <td>41.353750</td>\n",
       "      <td>41.872500</td>\n",
       "      <td>40.888750</td>\n",
       "      <td>41.313750</td>\n",
       "      <td>39.511667</td>\n",
       "      <td>1.301368e+08</td>\n",
       "    </tr>\n",
       "    <tr>\n",
       "      <th>75%</th>\n",
       "      <td>91.272499</td>\n",
       "      <td>92.881876</td>\n",
       "      <td>90.824377</td>\n",
       "      <td>91.526875</td>\n",
       "      <td>90.122934</td>\n",
       "      <td>2.045116e+08</td>\n",
       "    </tr>\n",
       "    <tr>\n",
       "      <th>max</th>\n",
       "      <td>182.630005</td>\n",
       "      <td>182.940002</td>\n",
       "      <td>179.119995</td>\n",
       "      <td>182.009995</td>\n",
       "      <td>180.959732</td>\n",
       "      <td>1.460852e+09</td>\n",
       "    </tr>\n",
       "  </tbody>\n",
       "</table>\n",
       "</div>"
      ],
      "text/plain": [
       "              Open         High          Low        Close    Adj Close  \\\n",
       "count  2518.000000  2518.000000  2518.000000  2518.000000  2518.000000   \n",
       "mean     62.383387    63.087693    61.696664    62.416599    60.637030   \n",
       "std      48.683035    49.322128    48.051043    48.709794    49.248659   \n",
       "min      13.856071    14.271429    13.753571    13.947500    12.064584   \n",
       "25%      26.971249    27.219376    26.705000    26.983750    24.676636   \n",
       "50%      41.353750    41.872500    40.888750    41.313750    39.511667   \n",
       "75%      91.272499    92.881876    90.824377    91.526875    90.122934   \n",
       "max     182.630005   182.940002   179.119995   182.009995   180.959732   \n",
       "\n",
       "             Volume  \n",
       "count  2.518000e+03  \n",
       "mean   1.713540e+08  \n",
       "std    1.250498e+08  \n",
       "min    3.519590e+07  \n",
       "25%    9.188698e+07  \n",
       "50%    1.301368e+08  \n",
       "75%    2.045116e+08  \n",
       "max    1.460852e+09  "
      ]
     },
     "execution_count": 4,
     "metadata": {},
     "output_type": "execute_result"
    }
   ],
   "source": [
    "df.describe()"
   ]
  },
  {
   "cell_type": "code",
   "execution_count": 5,
   "id": "9d130851",
   "metadata": {
    "execution": {
     "iopub.execute_input": "2023-01-30T15:48:39.629779Z",
     "iopub.status.busy": "2023-01-30T15:48:39.629341Z",
     "iopub.status.idle": "2023-01-30T15:48:39.649617Z",
     "shell.execute_reply": "2023-01-30T15:48:39.647426Z"
    },
    "papermill": {
     "duration": 0.032615,
     "end_time": "2023-01-30T15:48:39.653290",
     "exception": false,
     "start_time": "2023-01-30T15:48:39.620675",
     "status": "completed"
    },
    "tags": []
   },
   "outputs": [
    {
     "name": "stdout",
     "output_type": "stream",
     "text": [
      "<class 'pandas.core.frame.DataFrame'>\n",
      "RangeIndex: 2518 entries, 0 to 2517\n",
      "Data columns (total 7 columns):\n",
      " #   Column     Non-Null Count  Dtype  \n",
      "---  ------     --------------  -----  \n",
      " 0   Date       2518 non-null   object \n",
      " 1   Open       2518 non-null   float64\n",
      " 2   High       2518 non-null   float64\n",
      " 3   Low        2518 non-null   float64\n",
      " 4   Close      2518 non-null   float64\n",
      " 5   Adj Close  2518 non-null   float64\n",
      " 6   Volume     2518 non-null   int64  \n",
      "dtypes: float64(5), int64(1), object(1)\n",
      "memory usage: 137.8+ KB\n"
     ]
    }
   ],
   "source": [
    "df.info()"
   ]
  },
  {
   "cell_type": "code",
   "execution_count": 6,
   "id": "59817861",
   "metadata": {
    "execution": {
     "iopub.execute_input": "2023-01-30T15:48:39.670828Z",
     "iopub.status.busy": "2023-01-30T15:48:39.670316Z",
     "iopub.status.idle": "2023-01-30T15:48:39.678760Z",
     "shell.execute_reply": "2023-01-30T15:48:39.677472Z"
    },
    "papermill": {
     "duration": 0.01963,
     "end_time": "2023-01-30T15:48:39.681145",
     "exception": false,
     "start_time": "2023-01-30T15:48:39.661515",
     "status": "completed"
    },
    "tags": []
   },
   "outputs": [
    {
     "data": {
      "text/plain": [
       "Date          object\n",
       "Open         float64\n",
       "High         float64\n",
       "Low          float64\n",
       "Close        float64\n",
       "Adj Close    float64\n",
       "Volume         int64\n",
       "dtype: object"
      ]
     },
     "execution_count": 6,
     "metadata": {},
     "output_type": "execute_result"
    }
   ],
   "source": [
    "df.dtypes"
   ]
  },
  {
   "cell_type": "code",
   "execution_count": 7,
   "id": "69a60787",
   "metadata": {
    "execution": {
     "iopub.execute_input": "2023-01-30T15:48:39.697176Z",
     "iopub.status.busy": "2023-01-30T15:48:39.696780Z",
     "iopub.status.idle": "2023-01-30T15:48:39.709672Z",
     "shell.execute_reply": "2023-01-30T15:48:39.708476Z"
    },
    "papermill": {
     "duration": 0.023844,
     "end_time": "2023-01-30T15:48:39.712202",
     "exception": false,
     "start_time": "2023-01-30T15:48:39.688358",
     "status": "completed"
    },
    "tags": []
   },
   "outputs": [
    {
     "data": {
      "text/plain": [
       "Date         datetime64[ns]\n",
       "Open                float64\n",
       "High                float64\n",
       "Low                 float64\n",
       "Close               float64\n",
       "Adj Close           float64\n",
       "Volume                int64\n",
       "dtype: object"
      ]
     },
     "execution_count": 7,
     "metadata": {},
     "output_type": "execute_result"
    }
   ],
   "source": [
    "df['Date']=pd.to_datetime(df[\"Date\"])\n",
    "df.dtypes"
   ]
  },
  {
   "cell_type": "markdown",
   "id": "a1854f60",
   "metadata": {
    "papermill": {
     "duration": 0.007895,
     "end_time": "2023-01-30T15:48:39.727627",
     "exception": false,
     "start_time": "2023-01-30T15:48:39.719732",
     "status": "completed"
    },
    "tags": []
   },
   "source": [
    "**Visualize the data**"
   ]
  },
  {
   "cell_type": "code",
   "execution_count": 8,
   "id": "2a9b13d5",
   "metadata": {
    "execution": {
     "iopub.execute_input": "2023-01-30T15:48:39.745457Z",
     "iopub.status.busy": "2023-01-30T15:48:39.745027Z",
     "iopub.status.idle": "2023-01-30T15:48:40.034442Z",
     "shell.execute_reply": "2023-01-30T15:48:40.033249Z"
    },
    "papermill": {
     "duration": 0.302223,
     "end_time": "2023-01-30T15:48:40.037070",
     "exception": false,
     "start_time": "2023-01-30T15:48:39.734847",
     "status": "completed"
    },
    "tags": []
   },
   "outputs": [
    {
     "data": {
      "image/png": "[encoded data removed]",
      "text/plain": [
       "<Figure size 432x288 with 1 Axes>"
      ]
     },
     "metadata": {
      "needs_background": "light"
     },
     "output_type": "display_data"
    }
   ],
   "source": [
    "# fig = go.Figure()\n",
    "# obj = go.Scatter(\n",
    "#     x = ,\n",
    "#     y = ,\n",
    "#     mode = 'lines',\n",
    "#     name=\"High\",\n",
    "# )\n",
    "# fig.add_trace(obj)\n",
    "# fig.update_layout(title='Stock Prices' , legend=dict(orientation=\"h\",yanchor=\"bottom\",y=1.02,xanchor=\"right\",x=1))\n",
    "# fig.show()\n",
    "\n",
    "plt.plot(df['Date'], df['Adj Close'])\n",
    "# Adding Title to the Plot\n",
    "plt.title(\"Stock Prices\") \n",
    "# Setting the X and Y labels\n",
    "plt.xlabel('Date')\n",
    "plt.ylabel('High')\n",
    "plt.show()"
   ]
  },
  {
   "cell_type": "markdown",
   "id": "250426dc",
   "metadata": {
    "papermill": {
     "duration": 0.007106,
     "end_time": "2023-01-30T15:48:40.051674",
     "exception": false,
     "start_time": "2023-01-30T15:48:40.044568",
     "status": "completed"
    },
    "tags": []
   },
   "source": [
    "**Find 3 day moving average**"
   ]
  },
  {
   "cell_type": "code",
   "execution_count": 9,
   "id": "597b53fb",
   "metadata": {
    "execution": {
     "iopub.execute_input": "2023-01-30T15:48:40.069974Z",
     "iopub.status.busy": "2023-01-30T15:48:40.069572Z",
     "iopub.status.idle": "2023-01-30T15:48:40.077706Z",
     "shell.execute_reply": "2023-01-30T15:48:40.076852Z"
    },
    "papermill": {
     "duration": 0.020168,
     "end_time": "2023-01-30T15:48:40.079924",
     "exception": false,
     "start_time": "2023-01-30T15:48:40.059756",
     "status": "completed"
    },
    "tags": []
   },
   "outputs": [],
   "source": [
    "df['MA3'] = df['Adj Close'].rolling(3, min_periods=1).mean()"
   ]
  },
  {
   "cell_type": "code",
   "execution_count": 10,
   "id": "7b7d6ba3",
   "metadata": {
    "execution": {
     "iopub.execute_input": "2023-01-30T15:48:40.098124Z",
     "iopub.status.busy": "2023-01-30T15:48:40.097347Z",
     "iopub.status.idle": "2023-01-30T15:48:40.111561Z",
     "shell.execute_reply": "2023-01-30T15:48:40.110677Z"
    },
    "papermill": {
     "duration": 0.025947,
     "end_time": "2023-01-30T15:48:40.113781",
     "exception": false,
     "start_time": "2023-01-30T15:48:40.087834",
     "status": "completed"
    },
    "tags": []
   },
   "outputs": [
    {
     "data": {
      "text/html": [
       "<div>\n",
       "<style scoped>\n",
       "    .dataframe tbody tr th:only-of-type {\n",
       "        vertical-align: middle;\n",
       "    }\n",
       "\n",
       "    .dataframe tbody tr th {\n",
       "        vertical-align: top;\n",
       "    }\n",
       "\n",
       "    .dataframe thead th {\n",
       "        text-align: right;\n",
       "    }\n",
       "</style>\n",
       "<table border=\"1\" class=\"dataframe\">\n",
       "  <thead>\n",
       "    <tr style=\"text-align: right;\">\n",
       "      <th></th>\n",
       "      <th>Date</th>\n",
       "      <th>Open</th>\n",
       "      <th>High</th>\n",
       "      <th>Low</th>\n",
       "      <th>Close</th>\n",
       "      <th>Adj Close</th>\n",
       "      <th>Volume</th>\n",
       "      <th>MA3</th>\n",
       "    </tr>\n",
       "  </thead>\n",
       "  <tbody>\n",
       "    <tr>\n",
       "      <th>0</th>\n",
       "      <td>2013-01-02</td>\n",
       "      <td>19.779285</td>\n",
       "      <td>19.821428</td>\n",
       "      <td>19.343929</td>\n",
       "      <td>19.608213</td>\n",
       "      <td>16.862818</td>\n",
       "      <td>560518000</td>\n",
       "      <td>16.862818</td>\n",
       "    </tr>\n",
       "    <tr>\n",
       "      <th>1</th>\n",
       "      <td>2013-01-03</td>\n",
       "      <td>19.567142</td>\n",
       "      <td>19.631071</td>\n",
       "      <td>19.321428</td>\n",
       "      <td>19.360714</td>\n",
       "      <td>16.649981</td>\n",
       "      <td>352965200</td>\n",
       "      <td>16.756400</td>\n",
       "    </tr>\n",
       "    <tr>\n",
       "      <th>2</th>\n",
       "      <td>2013-01-04</td>\n",
       "      <td>19.177500</td>\n",
       "      <td>19.236786</td>\n",
       "      <td>18.779642</td>\n",
       "      <td>18.821428</td>\n",
       "      <td>16.186199</td>\n",
       "      <td>594333600</td>\n",
       "      <td>16.566333</td>\n",
       "    </tr>\n",
       "    <tr>\n",
       "      <th>3</th>\n",
       "      <td>2013-01-07</td>\n",
       "      <td>18.642857</td>\n",
       "      <td>18.903570</td>\n",
       "      <td>18.400000</td>\n",
       "      <td>18.710714</td>\n",
       "      <td>16.090986</td>\n",
       "      <td>484156400</td>\n",
       "      <td>16.309055</td>\n",
       "    </tr>\n",
       "    <tr>\n",
       "      <th>4</th>\n",
       "      <td>2013-01-08</td>\n",
       "      <td>18.900356</td>\n",
       "      <td>18.996071</td>\n",
       "      <td>18.616072</td>\n",
       "      <td>18.761070</td>\n",
       "      <td>16.134293</td>\n",
       "      <td>458707200</td>\n",
       "      <td>16.137159</td>\n",
       "    </tr>\n",
       "  </tbody>\n",
       "</table>\n",
       "</div>"
      ],
      "text/plain": [
       "        Date       Open       High        Low      Close  Adj Close  \\\n",
       "0 2013-01-02  19.779285  19.821428  19.343929  19.608213  16.862818   \n",
       "1 2013-01-03  19.567142  19.631071  19.321428  19.360714  16.649981   \n",
       "2 2013-01-04  19.177500  19.236786  18.779642  18.821428  16.186199   \n",
       "3 2013-01-07  18.642857  18.903570  18.400000  18.710714  16.090986   \n",
       "4 2013-01-08  18.900356  18.996071  18.616072  18.761070  16.134293   \n",
       "\n",
       "      Volume        MA3  \n",
       "0  560518000  16.862818  \n",
       "1  352965200  16.756400  \n",
       "2  594333600  16.566333  \n",
       "3  484156400  16.309055  \n",
       "4  458707200  16.137159  "
      ]
     },
     "execution_count": 10,
     "metadata": {},
     "output_type": "execute_result"
    }
   ],
   "source": [
    "df.head()"
   ]
  },
  {
   "cell_type": "code",
   "execution_count": 11,
   "id": "cca0056a",
   "metadata": {
    "execution": {
     "iopub.execute_input": "2023-01-30T15:48:40.132620Z",
     "iopub.status.busy": "2023-01-30T15:48:40.131900Z",
     "iopub.status.idle": "2023-01-30T15:48:40.405776Z",
     "shell.execute_reply": "2023-01-30T15:48:40.404592Z"
    },
    "papermill": {
     "duration": 0.286229,
     "end_time": "2023-01-30T15:48:40.408288",
     "exception": false,
     "start_time": "2023-01-30T15:48:40.122059",
     "status": "completed"
    },
    "tags": []
   },
   "outputs": [
    {
     "data": {
      "image/png": "[encoded data removed]",
      "text/plain": [
       "<Figure size 432x288 with 1 Axes>"
      ]
     },
     "metadata": {
      "needs_background": "light"
     },
     "output_type": "display_data"
    }
   ],
   "source": [
    "plt.plot(df['Date'], df['MA3'])\n",
    "# Adding Title to the Plot\n",
    "plt.title(\"Stock Prices\") \n",
    "# Setting the X and Y labels\n",
    "plt.xlabel('Date')\n",
    "plt.ylabel('MA3')\n",
    "plt.show()"
   ]
  },
  {
   "cell_type": "markdown",
   "id": "24b4f546",
   "metadata": {
    "papermill": {
     "duration": 0.007877,
     "end_time": "2023-01-30T15:48:40.424730",
     "exception": false,
     "start_time": "2023-01-30T15:48:40.416853",
     "status": "completed"
    },
    "tags": []
   },
   "source": [
    "**Split data into train and test**"
   ]
  },
  {
   "cell_type": "code",
   "execution_count": 12,
   "id": "dc621b1f",
   "metadata": {
    "execution": {
     "iopub.execute_input": "2023-01-30T15:48:40.444419Z",
     "iopub.status.busy": "2023-01-30T15:48:40.443778Z",
     "iopub.status.idle": "2023-01-30T15:48:40.453154Z",
     "shell.execute_reply": "2023-01-30T15:48:40.451988Z"
    },
    "papermill": {
     "duration": 0.022715,
     "end_time": "2023-01-30T15:48:40.455662",
     "exception": false,
     "start_time": "2023-01-30T15:48:40.432947",
     "status": "completed"
    },
    "tags": []
   },
   "outputs": [],
   "source": [
    "X_train, X_test, y_train, y_test = train_test_split(df[['Adj Close']], df[['MA3']], test_size=.2)"
   ]
  },
  {
   "cell_type": "code",
   "execution_count": 13,
   "id": "2c307648",
   "metadata": {
    "execution": {
     "iopub.execute_input": "2023-01-30T15:48:40.474840Z",
     "iopub.status.busy": "2023-01-30T15:48:40.474188Z",
     "iopub.status.idle": "2023-01-30T15:48:40.479599Z",
     "shell.execute_reply": "2023-01-30T15:48:40.478472Z"
    },
    "papermill": {
     "duration": 0.017794,
     "end_time": "2023-01-30T15:48:40.482092",
     "exception": false,
     "start_time": "2023-01-30T15:48:40.464298",
     "status": "completed"
    },
    "tags": []
   },
   "outputs": [],
   "source": [
    "reg = LinearRegression()"
   ]
  },
  {
   "cell_type": "code",
   "execution_count": 14,
   "id": "12c6dde3",
   "metadata": {
    "execution": {
     "iopub.execute_input": "2023-01-30T15:48:40.500983Z",
     "iopub.status.busy": "2023-01-30T15:48:40.500322Z",
     "iopub.status.idle": "2023-01-30T15:48:40.528762Z",
     "shell.execute_reply": "2023-01-30T15:48:40.527461Z"
    },
    "papermill": {
     "duration": 0.041129,
     "end_time": "2023-01-30T15:48:40.531501",
     "exception": false,
     "start_time": "2023-01-30T15:48:40.490372",
     "status": "completed"
    },
    "tags": []
   },
   "outputs": [
    {
     "data": {
      "text/plain": [
       "LinearRegression()"
      ]
     },
     "execution_count": 14,
     "metadata": {},
     "output_type": "execute_result"
    }
   ],
   "source": [
    "reg.fit(X_train,y_train)"
   ]
  },
  {
   "cell_type": "code",
   "execution_count": 15,
   "id": "32310bd4",
   "metadata": {
    "execution": {
     "iopub.execute_input": "2023-01-30T15:48:40.549763Z",
     "iopub.status.busy": "2023-01-30T15:48:40.549340Z",
     "iopub.status.idle": "2023-01-30T15:48:40.556467Z",
     "shell.execute_reply": "2023-01-30T15:48:40.555483Z"
    },
    "papermill": {
     "duration": 0.019106,
     "end_time": "2023-01-30T15:48:40.558903",
     "exception": false,
     "start_time": "2023-01-30T15:48:40.539797",
     "status": "completed"
    },
    "tags": []
   },
   "outputs": [],
   "source": [
    "preds = reg.predict(X_test)"
   ]
  },
  {
   "cell_type": "code",
   "execution_count": 16,
   "id": "0432a844",
   "metadata": {
    "execution": {
     "iopub.execute_input": "2023-01-30T15:48:40.577731Z",
     "iopub.status.busy": "2023-01-30T15:48:40.577308Z",
     "iopub.status.idle": "2023-01-30T15:48:40.588479Z",
     "shell.execute_reply": "2023-01-30T15:48:40.587174Z"
    },
    "papermill": {
     "duration": 0.023646,
     "end_time": "2023-01-30T15:48:40.591236",
     "exception": false,
     "start_time": "2023-01-30T15:48:40.567590",
     "status": "completed"
    },
    "tags": []
   },
   "outputs": [
    {
     "name": "stdout",
     "output_type": "stream",
     "text": [
      "Model Coefficients: [[0.99956067]]\n",
      "Mean Absolute Error: 0.6943383909501325\n",
      "Coefficient of Determination: 0.9993510845938008\n"
     ]
    }
   ],
   "source": [
    "print(\"Model Coefficients:\", reg.coef_)\n",
    "print(\"Mean Absolute Error:\", mean_absolute_error(y_test, preds))\n",
    "print(\"Coefficient of Determination:\", r2_score(y_test, preds))"
   ]
  },
  {
   "cell_type": "markdown",
   "id": "b1b1c965",
   "metadata": {
    "papermill": {
     "duration": 0.008304,
     "end_time": "2023-01-30T15:48:40.607935",
     "exception": false,
     "start_time": "2023-01-30T15:48:40.599631",
     "status": "completed"
    },
    "tags": []
   },
   "source": [
    "**Find 9 day moving average**"
   ]
  },
  {
   "cell_type": "code",
   "execution_count": 17,
   "id": "51532190",
   "metadata": {
    "execution": {
     "iopub.execute_input": "2023-01-30T15:48:40.627453Z",
     "iopub.status.busy": "2023-01-30T15:48:40.626751Z",
     "iopub.status.idle": "2023-01-30T15:48:40.634430Z",
     "shell.execute_reply": "2023-01-30T15:48:40.632720Z"
    },
    "papermill": {
     "duration": 0.021378,
     "end_time": "2023-01-30T15:48:40.637559",
     "exception": false,
     "start_time": "2023-01-30T15:48:40.616181",
     "status": "completed"
    },
    "tags": []
   },
   "outputs": [],
   "source": [
    "df['MA9'] = df['Adj Close'].rolling(9, min_periods=1).mean()"
   ]
  },
  {
   "cell_type": "code",
   "execution_count": 18,
   "id": "aa780750",
   "metadata": {
    "execution": {
     "iopub.execute_input": "2023-01-30T15:48:40.656981Z",
     "iopub.status.busy": "2023-01-30T15:48:40.656597Z",
     "iopub.status.idle": "2023-01-30T15:48:40.672593Z",
     "shell.execute_reply": "2023-01-30T15:48:40.671431Z"
    },
    "papermill": {
     "duration": 0.028829,
     "end_time": "2023-01-30T15:48:40.675059",
     "exception": false,
     "start_time": "2023-01-30T15:48:40.646230",
     "status": "completed"
    },
    "tags": []
   },
   "outputs": [
    {
     "data": {
      "text/html": [
       "<div>\n",
       "<style scoped>\n",
       "    .dataframe tbody tr th:only-of-type {\n",
       "        vertical-align: middle;\n",
       "    }\n",
       "\n",
       "    .dataframe tbody tr th {\n",
       "        vertical-align: top;\n",
       "    }\n",
       "\n",
       "    .dataframe thead th {\n",
       "        text-align: right;\n",
       "    }\n",
       "</style>\n",
       "<table border=\"1\" class=\"dataframe\">\n",
       "  <thead>\n",
       "    <tr style=\"text-align: right;\">\n",
       "      <th></th>\n",
       "      <th>Date</th>\n",
       "      <th>Open</th>\n",
       "      <th>High</th>\n",
       "      <th>Low</th>\n",
       "      <th>Close</th>\n",
       "      <th>Adj Close</th>\n",
       "      <th>Volume</th>\n",
       "      <th>MA3</th>\n",
       "      <th>MA9</th>\n",
       "    </tr>\n",
       "  </thead>\n",
       "  <tbody>\n",
       "    <tr>\n",
       "      <th>0</th>\n",
       "      <td>2013-01-02</td>\n",
       "      <td>19.779285</td>\n",
       "      <td>19.821428</td>\n",
       "      <td>19.343929</td>\n",
       "      <td>19.608213</td>\n",
       "      <td>16.862818</td>\n",
       "      <td>560518000</td>\n",
       "      <td>16.862818</td>\n",
       "      <td>16.862818</td>\n",
       "    </tr>\n",
       "    <tr>\n",
       "      <th>1</th>\n",
       "      <td>2013-01-03</td>\n",
       "      <td>19.567142</td>\n",
       "      <td>19.631071</td>\n",
       "      <td>19.321428</td>\n",
       "      <td>19.360714</td>\n",
       "      <td>16.649981</td>\n",
       "      <td>352965200</td>\n",
       "      <td>16.756400</td>\n",
       "      <td>16.756400</td>\n",
       "    </tr>\n",
       "    <tr>\n",
       "      <th>2</th>\n",
       "      <td>2013-01-04</td>\n",
       "      <td>19.177500</td>\n",
       "      <td>19.236786</td>\n",
       "      <td>18.779642</td>\n",
       "      <td>18.821428</td>\n",
       "      <td>16.186199</td>\n",
       "      <td>594333600</td>\n",
       "      <td>16.566333</td>\n",
       "      <td>16.566333</td>\n",
       "    </tr>\n",
       "    <tr>\n",
       "      <th>3</th>\n",
       "      <td>2013-01-07</td>\n",
       "      <td>18.642857</td>\n",
       "      <td>18.903570</td>\n",
       "      <td>18.400000</td>\n",
       "      <td>18.710714</td>\n",
       "      <td>16.090986</td>\n",
       "      <td>484156400</td>\n",
       "      <td>16.309055</td>\n",
       "      <td>16.447496</td>\n",
       "    </tr>\n",
       "    <tr>\n",
       "      <th>4</th>\n",
       "      <td>2013-01-08</td>\n",
       "      <td>18.900356</td>\n",
       "      <td>18.996071</td>\n",
       "      <td>18.616072</td>\n",
       "      <td>18.761070</td>\n",
       "      <td>16.134293</td>\n",
       "      <td>458707200</td>\n",
       "      <td>16.137159</td>\n",
       "      <td>16.384855</td>\n",
       "    </tr>\n",
       "  </tbody>\n",
       "</table>\n",
       "</div>"
      ],
      "text/plain": [
       "        Date       Open       High        Low      Close  Adj Close  \\\n",
       "0 2013-01-02  19.779285  19.821428  19.343929  19.608213  16.862818   \n",
       "1 2013-01-03  19.567142  19.631071  19.321428  19.360714  16.649981   \n",
       "2 2013-01-04  19.177500  19.236786  18.779642  18.821428  16.186199   \n",
       "3 2013-01-07  18.642857  18.903570  18.400000  18.710714  16.090986   \n",
       "4 2013-01-08  18.900356  18.996071  18.616072  18.761070  16.134293   \n",
       "\n",
       "      Volume        MA3        MA9  \n",
       "0  560518000  16.862818  16.862818  \n",
       "1  352965200  16.756400  16.756400  \n",
       "2  594333600  16.566333  16.566333  \n",
       "3  484156400  16.309055  16.447496  \n",
       "4  458707200  16.137159  16.384855  "
      ]
     },
     "execution_count": 18,
     "metadata": {},
     "output_type": "execute_result"
    }
   ],
   "source": [
    "df.head()"
   ]
  },
  {
   "cell_type": "code",
   "execution_count": 19,
   "id": "aeb3d609",
   "metadata": {
    "execution": {
     "iopub.execute_input": "2023-01-30T15:48:40.694256Z",
     "iopub.status.busy": "2023-01-30T15:48:40.693863Z",
     "iopub.status.idle": "2023-01-30T15:48:40.981015Z",
     "shell.execute_reply": "2023-01-30T15:48:40.979652Z"
    },
    "papermill": {
     "duration": 0.299955,
     "end_time": "2023-01-30T15:48:40.983755",
     "exception": false,
     "start_time": "2023-01-30T15:48:40.683800",
     "status": "completed"
    },
    "tags": []
   },
   "outputs": [
    {
     "data": {
      "image/png": "[encoded data removed]",
      "text/plain": [
       "<Figure size 432x288 with 1 Axes>"
      ]
     },
     "metadata": {
      "needs_background": "light"
     },
     "output_type": "display_data"
    }
   ],
   "source": [
    "plt.plot(df['Date'], df['MA3'])\n",
    "# Adding Title to the Plot\n",
    "plt.title(\"Stock Prices\") \n",
    "# Setting the X and Y labels\n",
    "plt.xlabel('Date')\n",
    "plt.ylabel('MA3')\n",
    "plt.show()"
   ]
  },
  {
   "cell_type": "code",
   "execution_count": 20,
   "id": "74cfc9d0",
   "metadata": {
    "execution": {
     "iopub.execute_input": "2023-01-30T15:48:41.003969Z",
     "iopub.status.busy": "2023-01-30T15:48:41.003093Z",
     "iopub.status.idle": "2023-01-30T15:48:41.012648Z",
     "shell.execute_reply": "2023-01-30T15:48:41.011191Z"
    },
    "papermill": {
     "duration": 0.022733,
     "end_time": "2023-01-30T15:48:41.015423",
     "exception": false,
     "start_time": "2023-01-30T15:48:40.992690",
     "status": "completed"
    },
    "tags": []
   },
   "outputs": [],
   "source": [
    "X_train, X_test, y_train, y_test = train_test_split(df[['Adj Close']], df[['MA9']], test_size=.2)"
   ]
  },
  {
   "cell_type": "code",
   "execution_count": 21,
   "id": "ee2d6562",
   "metadata": {
    "execution": {
     "iopub.execute_input": "2023-01-30T15:48:41.035176Z",
     "iopub.status.busy": "2023-01-30T15:48:41.034775Z",
     "iopub.status.idle": "2023-01-30T15:48:41.044824Z",
     "shell.execute_reply": "2023-01-30T15:48:41.043643Z"
    },
    "papermill": {
     "duration": 0.023116,
     "end_time": "2023-01-30T15:48:41.047529",
     "exception": false,
     "start_time": "2023-01-30T15:48:41.024413",
     "status": "completed"
    },
    "tags": []
   },
   "outputs": [],
   "source": [
    "reg = LinearRegression()\n",
    "reg.fit(X_train,y_train)\n",
    "preds = reg.predict(X_test)"
   ]
  },
  {
   "cell_type": "code",
   "execution_count": 22,
   "id": "cefc4db8",
   "metadata": {
    "execution": {
     "iopub.execute_input": "2023-01-30T15:48:41.069159Z",
     "iopub.status.busy": "2023-01-30T15:48:41.068752Z",
     "iopub.status.idle": "2023-01-30T15:48:41.079638Z",
     "shell.execute_reply": "2023-01-30T15:48:41.077867Z"
    },
    "papermill": {
     "duration": 0.026663,
     "end_time": "2023-01-30T15:48:41.083266",
     "exception": false,
     "start_time": "2023-01-30T15:48:41.056603",
     "status": "completed"
    },
    "tags": []
   },
   "outputs": [
    {
     "name": "stdout",
     "output_type": "stream",
     "text": [
      "Model Coefficients: [[0.99643314]]\n",
      "Mean Absolute Error: 1.3933569503622185\n",
      "Coefficient of Determination: 0.9977594406897216\n"
     ]
    }
   ],
   "source": [
    "print(\"Model Coefficients:\", reg.coef_)\n",
    "print(\"Mean Absolute Error:\", mean_absolute_error(y_test, preds))\n",
    "print(\"Coefficient of Determination:\", r2_score(y_test, preds))"
   ]
  }
 ],
 "metadata": {
  "kernelspec": {
   "display_name": "Python 3",
   "language": "python",
   "name": "python3"
  },
  "language_info": {
   "codemirror_mode": {
    "name": "ipython",
    "version": 3
   },
   "file_extension": ".py",
   "mimetype": "text/x-python",
   "name": "python",
   "nbconvert_exporter": "python",
   "pygments_lexer": "ipython3",
   "version": "3.7.12"
  },
  "papermill": {
   "default_parameters": {},
   "duration": 13.887034,
   "end_time": "2023-01-30T15:48:41.916996",
   "environment_variables": {},
   "exception": null,
   "input_path": "__notebook__.ipynb",
   "output_path": "__notebook__.ipynb",
   "parameters": {},
   "start_time": "2023-01-30T15:48:28.029962",
   "version": "2.3.4"
  }
 },
 "nbformat": 4,
 "nbformat_minor": 5
}
